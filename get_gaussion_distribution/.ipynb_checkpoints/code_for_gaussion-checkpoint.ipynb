{
 "cells": [
  {
   "cell_type": "code",
   "execution_count": 20,
   "metadata": {},
   "outputs": [],
   "source": [
    "import numpy as np\n",
    "import pandas as pd\n",
    "from copy import deepcopy"
   ]
  },
  {
   "cell_type": "code",
   "execution_count": 4,
   "metadata": {},
   "outputs": [],
   "source": [
    "df = pd.read_csv('data.csv')"
   ]
  },
  {
   "cell_type": "code",
   "execution_count": 94,
   "metadata": {},
   "outputs": [],
   "source": [
    "tmp_df = df[['tmp10', 'tmp16', 'tmp22']]\n",
    "wat_df = df[['water_rate', 'water_low', 'water_high']]\n",
    "tmp_array = tmp_df.values\n",
    "wat_array = wat_df.values"
   ]
  },
  {
   "cell_type": "code",
   "execution_count": 76,
   "metadata": {},
   "outputs": [],
   "source": [
    "#check wether temperature is monotonically increasing\n",
    "center22 = []\n",
    "center16 = []\n",
    "for i in enumerate(tmp_array):\n",
    "    if (i[1][1]-i[1][0])>0 and (i[1][2]-i[1][1])>0:\n",
    "        center22.append(i[0])\n",
    "    elif (i[1][1]-i[1][0])>0 and (i[1][1]-i[1][2])>0:\n",
    "        center16.append(i[0])\n",
    "    else:\n",
    "        center22.append(i[0])"
   ]
  },
  {
   "cell_type": "code",
   "execution_count": 58,
   "metadata": {},
   "outputs": [],
   "source": [
    "from scipy.optimize import curve_fit"
   ]
  },
  {
   "cell_type": "code",
   "execution_count": 73,
   "metadata": {},
   "outputs": [],
   "source": [
    "def get_gauss(x, y):\n",
    "    mean = sum(x * y) / sum(y)\n",
    "    sigma = np.sqrt(sum(y * (x - mean)**2) / sum(y))\n",
    "\n",
    "    def Gauss(x, a, x0, sigma):\n",
    "        return a * np.exp(-(x - x0)**2 / (2 * sigma**2))\n",
    "\n",
    "    popt,pcov = curve_fit(Gauss, x, y, p0=[max(y), mean, sigma])\n",
    "    return popt"
   ]
  },
  {
   "cell_type": "code",
   "execution_count": 119,
   "metadata": {},
   "outputs": [],
   "source": [
    "# weighted arithmetic mean (corrected - check the section below)\n",
    "def get_tmp_para(tmp_array):\n",
    "    x5 = [10, 16, 22, 28, 34]\n",
    "    x3 = [10, 16, 22]\n",
    "    tmp_ans = []\n",
    "    for i in range(len(tmp_array)):\n",
    "        y = deepcopy(tmp_array[i])\n",
    "        if i in center22:\n",
    "            y = np.append(y, [y[-2], y[-3]])    \n",
    "            tmp_ans.append(get_gauss(x5, y))\n",
    "        elif i in center16:\n",
    "            tmp_ans.append(get_gauss(x3, y))\n",
    "    return tmp_ans\n",
    "def get_wat_para(wat_array):\n",
    "    ans = []\n",
    "    for i in range(len(wat_array)):\n",
    "        tmp = np.append(wat_array[i], (wat_array[i][1] + wat_array[i][2])/2)\n",
    "        y = np.array([tmp[0], tmp[0]*2, tmp[0]])\n",
    "        x = np.array([tmp[1], tmp[3], tmp[2]])\n",
    "        ans.append(get_gauss(x, y))\n",
    "    return ans"
   ]
  },
  {
   "cell_type": "code",
   "execution_count": 126,
   "metadata": {
    "scrolled": false
   },
   "outputs": [],
   "source": [
    "wat_para = get_wat_para(wat_array)\n",
    "tmp_para = get_tmp_para(tmp_array)\n",
    "all_para = [[*wat_para[i], *tmp_para[i]] for i in range(34)]"
   ]
  },
  {
   "cell_type": "code",
   "execution_count": 131,
   "metadata": {},
   "outputs": [],
   "source": [
    "from pandas.core.frame import DataFrame"
   ]
  },
  {
   "cell_type": "code",
   "execution_count": 137,
   "metadata": {
    "scrolled": true
   },
   "outputs": [],
   "source": [
    "all_para_pandas=DataFrame(all_para)\n",
    "all_para_pandas.columns = ['wat_1', 'wat_2', 'wat_3', 'tmp_1', 'tmp_2', 'tmp_3']"
   ]
  },
  {
   "cell_type": "code",
   "execution_count": 140,
   "metadata": {
    "scrolled": true
   },
   "outputs": [],
   "source": [
    "all_para_pandas.to_csv('gauss_data.csv')"
   ]
  }
 ],
 "metadata": {
  "kernelspec": {
   "display_name": "Python 3",
   "language": "python",
   "name": "python3"
  },
  "language_info": {
   "codemirror_mode": {
    "name": "ipython",
    "version": 3
   },
   "file_extension": ".py",
   "mimetype": "text/x-python",
   "name": "python",
   "nbconvert_exporter": "python",
   "pygments_lexer": "ipython3",
   "version": "3.7.3"
  }
 },
 "nbformat": 4,
 "nbformat_minor": 2
}
